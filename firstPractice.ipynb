{
  "nbformat": 4,
  "nbformat_minor": 0,
  "metadata": {
    "colab": {
      "provenance": [],
      "authorship_tag": "ABX9TyOsci7Fug5pXG+HhRq9MTBu",
      "include_colab_link": true
    },
    "kernelspec": {
      "name": "python3",
      "display_name": "Python 3"
    },
    "language_info": {
      "name": "python"
    }
  },
  "cells": [
    {
      "cell_type": "markdown",
      "metadata": {
        "id": "view-in-github",
        "colab_type": "text"
      },
      "source": [
        "<a href=\"https://colab.research.google.com/github/arrahmanriju/Active__box/blob/master/firstPractice.ipynb\" target=\"_parent\"><img src=\"https://colab.research.google.com/assets/colab-badge.svg\" alt=\"Open In Colab\"/></a>"
      ]
    },
    {
      "cell_type": "code",
      "execution_count": null,
      "metadata": {
        "id": "uU79eK6UphHj"
      },
      "outputs": [],
      "source": []
    },
    {
      "cell_type": "markdown",
      "source": [
        "IMPORTING THE LIBRARIES\n"
      ],
      "metadata": {
        "id": "wpJMlaFGpjAJ"
      }
    },
    {
      "cell_type": "code",
      "source": [
        "  import numpy as np\n",
        "  import matplotlib.pyplot as plt\n",
        "  import pandas as pd"
      ],
      "metadata": {
        "id": "y0jEXCwUpnGI"
      },
      "execution_count": 1,
      "outputs": []
    }
  ]
}